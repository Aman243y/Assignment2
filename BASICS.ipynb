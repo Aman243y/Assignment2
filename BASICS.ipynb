{
 "cells": [
  {
   "cell_type": "code",
   "execution_count": 1,
   "id": "53e29cb6-e8bd-4cb2-b225-f4b494f2a73a",
   "metadata": {},
   "outputs": [],
   "source": [
    "s=\"NOMADAMAN\"\n"
   ]
  },
  {
   "cell_type": "code",
   "execution_count": 2,
   "id": "52eed46e-0999-43a2-8f19-45d9b4c13440",
   "metadata": {},
   "outputs": [
    {
     "data": {
      "text/plain": [
       "str"
      ]
     },
     "execution_count": 2,
     "metadata": {},
     "output_type": "execute_result"
    }
   ],
   "source": [
    "type(s)"
   ]
  },
  {
   "cell_type": "code",
   "execution_count": 3,
   "id": "e971b26a-260a-4f58-9dce-088e7c1cc873",
   "metadata": {},
   "outputs": [
    {
     "data": {
      "text/plain": [
       "'A'"
      ]
     },
     "execution_count": 3,
     "metadata": {},
     "output_type": "execute_result"
    }
   ],
   "source": [
    "s[3]"
   ]
  },
  {
   "cell_type": "code",
   "execution_count": 4,
   "id": "ea720680-13b8-4b57-9b09-8fd5a9e15a72",
   "metadata": {},
   "outputs": [
    {
     "data": {
      "text/plain": [
       "'M'"
      ]
     },
     "execution_count": 4,
     "metadata": {},
     "output_type": "execute_result"
    }
   ],
   "source": [
    "s[-3]"
   ]
  },
  {
   "cell_type": "code",
   "execution_count": 6,
   "id": "c9beabf2-701b-46b4-b85c-ab1396329c50",
   "metadata": {},
   "outputs": [
    {
     "data": {
      "text/plain": [
       "'NOM'"
      ]
     },
     "execution_count": 6,
     "metadata": {},
     "output_type": "execute_result"
    }
   ],
   "source": [
    "s[0:3]"
   ]
  },
  {
   "cell_type": "code",
   "execution_count": 7,
   "id": "d6661d1b-2889-4f73-8c92-a9ce0386a631",
   "metadata": {},
   "outputs": [
    {
     "data": {
      "text/plain": [
       "'NOMAD'"
      ]
     },
     "execution_count": 7,
     "metadata": {},
     "output_type": "execute_result"
    }
   ],
   "source": [
    "s[0:5]"
   ]
  },
  {
   "cell_type": "code",
   "execution_count": 8,
   "id": "69fbb323-d0bf-4be9-9a8c-f154a6ad4f44",
   "metadata": {},
   "outputs": [
    {
     "data": {
      "text/plain": [
       "'NOMA'"
      ]
     },
     "execution_count": 8,
     "metadata": {},
     "output_type": "execute_result"
    }
   ],
   "source": [
    "s[0:-5]"
   ]
  },
  {
   "cell_type": "code",
   "execution_count": 9,
   "id": "c7c76ef8-ff40-4567-ac44-76736dae591d",
   "metadata": {},
   "outputs": [
    {
     "data": {
      "text/plain": [
       "'NMDMN'"
      ]
     },
     "execution_count": 9,
     "metadata": {},
     "output_type": "execute_result"
    }
   ],
   "source": [
    "s[0:9:2]"
   ]
  },
  {
   "cell_type": "code",
   "execution_count": 13,
   "id": "13c2520b-afaa-4a1f-8c6d-914710e50423",
   "metadata": {},
   "outputs": [
    {
     "data": {
      "text/plain": [
       "'NAM'"
      ]
     },
     "execution_count": 13,
     "metadata": {},
     "output_type": "execute_result"
    }
   ],
   "source": [
    "s[::3]\n"
   ]
  },
  {
   "cell_type": "code",
   "execution_count": 14,
   "id": "6b9e31b8-4bc6-43de-9c83-3d4be08251c8",
   "metadata": {},
   "outputs": [
    {
     "data": {
      "text/plain": [
       "'ADA'"
      ]
     },
     "execution_count": 14,
     "metadata": {},
     "output_type": "execute_result"
    }
   ],
   "source": [
    "s[3:6]"
   ]
  },
  {
   "cell_type": "code",
   "execution_count": 15,
   "id": "8e5e148e-2539-4e4c-9fb6-959531c4fe2b",
   "metadata": {},
   "outputs": [
    {
     "data": {
      "text/plain": [
       "'M'"
      ]
     },
     "execution_count": 15,
     "metadata": {},
     "output_type": "execute_result"
    }
   ],
   "source": [
    "s[2::8]"
   ]
  },
  {
   "cell_type": "code",
   "execution_count": 16,
   "id": "0ba7bd3d-7e3b-45cc-9200-17d0fe747832",
   "metadata": {},
   "outputs": [
    {
     "data": {
      "text/plain": [
       "'NAMADAMON'"
      ]
     },
     "execution_count": 16,
     "metadata": {},
     "output_type": "execute_result"
    }
   ],
   "source": [
    "s[::-1]"
   ]
  },
  {
   "cell_type": "code",
   "execution_count": 18,
   "id": "b328f8e9-41cc-4a5e-bff0-8071324e7cd7",
   "metadata": {},
   "outputs": [
    {
     "data": {
      "text/plain": [
       "''"
      ]
     },
     "execution_count": 18,
     "metadata": {},
     "output_type": "execute_result"
    }
   ],
   "source": [
    "s[2:7:-1]"
   ]
  },
  {
   "cell_type": "code",
   "execution_count": 19,
   "id": "463eb331-d1ad-419b-8eb1-c80a0eb8317c",
   "metadata": {},
   "outputs": [
    {
     "data": {
      "text/plain": [
       "'AMADA'"
      ]
     },
     "execution_count": 19,
     "metadata": {},
     "output_type": "execute_result"
    }
   ],
   "source": [
    "s[-2:-7:-1]"
   ]
  },
  {
   "cell_type": "code",
   "execution_count": 20,
   "id": "eac6c8aa-d4ee-4681-b75c-c084abb4915a",
   "metadata": {},
   "outputs": [
    {
     "data": {
      "text/plain": [
       "''"
      ]
     },
     "execution_count": 20,
     "metadata": {},
     "output_type": "execute_result"
    }
   ],
   "source": [
    "s[8:0]"
   ]
  },
  {
   "cell_type": "code",
   "execution_count": 24,
   "id": "53c6d0c7-8168-4300-906d-3622437b52fc",
   "metadata": {},
   "outputs": [
    {
     "data": {
      "text/plain": [
       "'NAMADAM'"
      ]
     },
     "execution_count": 24,
     "metadata": {},
     "output_type": "execute_result"
    }
   ],
   "source": [
    "s[:-8:-1]"
   ]
  },
  {
   "cell_type": "code",
   "execution_count": 29,
   "id": "a789c95f-89c6-4813-bbcd-43c426395d81",
   "metadata": {},
   "outputs": [],
   "source": [
    "c=\"200\""
   ]
  },
  {
   "cell_type": "code",
   "execution_count": 30,
   "id": "7ab4b195-09b9-42c4-bf6b-1b81cda3c86a",
   "metadata": {},
   "outputs": [
    {
     "data": {
      "text/plain": [
       "'0'"
      ]
     },
     "execution_count": 30,
     "metadata": {},
     "output_type": "execute_result"
    }
   ],
   "source": [
    "c[2]"
   ]
  },
  {
   "cell_type": "code",
   "execution_count": 39,
   "id": "c3ddc32e-4861-4215-904c-3d044a6e514c",
   "metadata": {},
   "outputs": [],
   "source": [
    "a1=\"My name is aman\""
   ]
  },
  {
   "cell_type": "code",
   "execution_count": 40,
   "id": "2e344e83-295f-4d5d-a69c-5bcef27de6d5",
   "metadata": {},
   "outputs": [
    {
     "data": {
      "text/plain": [
       "15"
      ]
     },
     "execution_count": 40,
     "metadata": {},
     "output_type": "execute_result"
    }
   ],
   "source": [
    "len(a1)"
   ]
  },
  {
   "cell_type": "code",
   "execution_count": 42,
   "id": "275680f6-8259-4277-936d-f8027b1f7d99",
   "metadata": {},
   "outputs": [
    {
     "data": {
      "text/plain": [
       "9"
      ]
     },
     "execution_count": 42,
     "metadata": {},
     "output_type": "execute_result"
    }
   ],
   "source": [
    "a1.find('s')"
   ]
  },
  {
   "cell_type": "code",
   "execution_count": 44,
   "id": "d72cb51d-e9cf-4f3c-82f3-79d2fdc8aa2c",
   "metadata": {},
   "outputs": [
    {
     "data": {
      "text/plain": [
       "-1"
      ]
     },
     "execution_count": 44,
     "metadata": {},
     "output_type": "execute_result"
    }
   ],
   "source": [
    "a1.find('Mi')"
   ]
  },
  {
   "cell_type": "code",
   "execution_count": 45,
   "id": "bbbe67a3-a5aa-43f8-8239-238079250698",
   "metadata": {},
   "outputs": [
    {
     "data": {
      "text/plain": [
       "6"
      ]
     },
     "execution_count": 45,
     "metadata": {},
     "output_type": "execute_result"
    }
   ],
   "source": [
    "a1.find('e')"
   ]
  },
  {
   "cell_type": "code",
   "execution_count": 46,
   "id": "eeffac9e-371f-45f0-b8c9-becd5d440848",
   "metadata": {},
   "outputs": [
    {
     "data": {
      "text/plain": [
       "3"
      ]
     },
     "execution_count": 46,
     "metadata": {},
     "output_type": "execute_result"
    }
   ],
   "source": [
    "a1.count('a')"
   ]
  },
  {
   "cell_type": "code",
   "execution_count": 48,
   "id": "9bc6cee8-78ee-40f4-974a-b6d0ccefb669",
   "metadata": {},
   "outputs": [
    {
     "data": {
      "text/plain": [
       "1"
      ]
     },
     "execution_count": 48,
     "metadata": {},
     "output_type": "execute_result"
    }
   ],
   "source": [
    "a1.count('My')"
   ]
  },
  {
   "cell_type": "code",
   "execution_count": 49,
   "id": "c3f6d370-4de9-4858-bc14-3feb96b039c7",
   "metadata": {},
   "outputs": [
    {
     "data": {
      "text/plain": [
       "'My name is aman'"
      ]
     },
     "execution_count": 49,
     "metadata": {},
     "output_type": "execute_result"
    }
   ],
   "source": [
    "a1"
   ]
  },
  {
   "cell_type": "code",
   "execution_count": 50,
   "id": "33aa2c06-53b9-4be0-87fa-0b238b8ca1a8",
   "metadata": {},
   "outputs": [
    {
     "data": {
      "text/plain": [
       "'MY NAME IS AMAN'"
      ]
     },
     "execution_count": 50,
     "metadata": {},
     "output_type": "execute_result"
    }
   ],
   "source": [
    "a1.upper()"
   ]
  },
  {
   "cell_type": "code",
   "execution_count": 51,
   "id": "5365daca-ca59-4e3e-a8b5-8b17d98b7037",
   "metadata": {},
   "outputs": [
    {
     "data": {
      "text/plain": [
       "False"
      ]
     },
     "execution_count": 51,
     "metadata": {},
     "output_type": "execute_result"
    }
   ],
   "source": [
    "a1.islower()"
   ]
  },
  {
   "cell_type": "code",
   "execution_count": 52,
   "id": "ba17c139-e78e-4b53-ad97-6a1e067a1c27",
   "metadata": {},
   "outputs": [
    {
     "data": {
      "text/plain": [
       "'my name is aman'"
      ]
     },
     "execution_count": 52,
     "metadata": {},
     "output_type": "execute_result"
    }
   ],
   "source": [
    "a1.lower()"
   ]
  },
  {
   "cell_type": "code",
   "execution_count": 53,
   "id": "e9e464e5-cd15-4cda-9352-4bf68a1e5b8f",
   "metadata": {},
   "outputs": [
    {
     "data": {
      "text/plain": [
       "'My Name Is Aman'"
      ]
     },
     "execution_count": 53,
     "metadata": {},
     "output_type": "execute_result"
    }
   ],
   "source": [
    "a1.title()"
   ]
  },
  {
   "cell_type": "code",
   "execution_count": 54,
   "id": "a358f570-a874-4ccf-a97c-ae2d50b927db",
   "metadata": {},
   "outputs": [
    {
     "data": {
      "text/plain": [
       "'My name is aman'"
      ]
     },
     "execution_count": 54,
     "metadata": {},
     "output_type": "execute_result"
    }
   ],
   "source": [
    "a1.capitalize()"
   ]
  },
  {
   "cell_type": "code",
   "execution_count": 57,
   "id": "8cc37b92-a739-4e10-a3c1-b46369576a6a",
   "metadata": {},
   "outputs": [
    {
     "data": {
      "text/plain": [
       "'NOMADAMANMy name is aman'"
      ]
     },
     "execution_count": 57,
     "metadata": {},
     "output_type": "execute_result"
    }
   ],
   "source": [
    "s  +  a1"
   ]
  },
  {
   "cell_type": "code",
   "execution_count": 61,
   "id": "b45cd279-3de2-4a14-812e-b0ab471f5a7c",
   "metadata": {},
   "outputs": [
    {
     "data": {
      "text/plain": [
       "'NOMADAMANNOMADAMANNOMADAMANNOMADAMANNOMADAMANNOMADAMANNOMADAMANNOMADAMAN'"
      ]
     },
     "execution_count": 61,
     "metadata": {},
     "output_type": "execute_result"
    }
   ],
   "source": [
    "s*8"
   ]
  },
  {
   "cell_type": "code",
   "execution_count": 62,
   "id": "f1646e5e-cdd2-4467-a0ad-530cdaea72a8",
   "metadata": {},
   "outputs": [],
   "source": [
    "#this is first class i have attended\n"
   ]
  },
  {
   "cell_type": "code",
   "execution_count": 63,
   "id": "83edb037-9f8d-4593-bb48-bfeaf429e64a",
   "metadata": {},
   "outputs": [
    {
     "data": {
      "text/plain": [
       "'i have to learn this is any many manner\\nthe objective of this learning prepare for entering in this industry the industries of develop new technologies \\nand project that helps socity to improve thier self'"
      ]
     },
     "execution_count": 63,
     "metadata": {},
     "output_type": "execute_result"
    }
   ],
   "source": [
    "'''i have to learn this is any many manner\n",
    "the objective of this learning prepare for entering in this industry the industries of develop new technologies \n",
    "and project that helps socity to improve thier self'''"
   ]
  },
  {
   "cell_type": "code",
   "execution_count": 65,
   "id": "920a0eb9-b88c-49d1-a35c-7877758940af",
   "metadata": {},
   "outputs": [
    {
     "name": "stdout",
     "output_type": "stream",
     "text": [
      "4\n"
     ]
    }
   ],
   "source": [
    "for i in range(5):\n",
    "    \n",
    "\n",
    "    if i == 2:\n",
    "        \n",
    "\n",
    "        continue\n",
    "\n",
    "print(i)"
   ]
  },
  {
   "cell_type": "code",
   "execution_count": null,
   "id": "e40338c0-d829-41b2-ba1f-5065ad595109",
   "metadata": {},
   "outputs": [],
   "source": []
  }
 ],
 "metadata": {
  "kernelspec": {
   "display_name": "Python 3 (ipykernel)",
   "language": "python",
   "name": "python3"
  },
  "language_info": {
   "codemirror_mode": {
    "name": "ipython",
    "version": 3
   },
   "file_extension": ".py",
   "mimetype": "text/x-python",
   "name": "python",
   "nbconvert_exporter": "python",
   "pygments_lexer": "ipython3",
   "version": "3.10.8"
  }
 },
 "nbformat": 4,
 "nbformat_minor": 5
}
