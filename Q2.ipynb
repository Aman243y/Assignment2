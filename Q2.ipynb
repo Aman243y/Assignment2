{
 "cells": [
  {
   "cell_type": "code",
   "execution_count": 1,
   "id": "4b11e463-3036-4bc2-8c75-e55efd23b9a7",
   "metadata": {},
   "outputs": [],
   "source": [
    "\"\"\"\n",
    "In Python, a variable is a name that refers to a value stored in memory. \n",
    "It's like a label that you assign to a particular piece of data.\n",
    "This data can be of any type, such as numbers, strings, lists, etc\n",
    "\"\"\"\n",
    "#Example\n",
    "# Assigning an integer value to a variable\n",
    "x = 10\n",
    "\n",
    "# Assigning a string value to a variable\n",
    "name = \"John Doe\"\n",
    "\n",
    "# Assigning a list to a variable\n",
    "my_list = [1, 2, 3, 4]\n",
    "\n",
    "# Assigning a boolean value to a variable\n",
    "is_valid = True\n"
   ]
  },
  {
   "cell_type": "code",
   "execution_count": null,
   "id": "fbe83e77-3b35-4f6d-93ec-6f482a6fc968",
   "metadata": {},
   "outputs": [],
   "source": []
  }
 ],
 "metadata": {
  "kernelspec": {
   "display_name": "Python 3 (ipykernel)",
   "language": "python",
   "name": "python3"
  },
  "language_info": {
   "codemirror_mode": {
    "name": "ipython",
    "version": 3
   },
   "file_extension": ".py",
   "mimetype": "text/x-python",
   "name": "python",
   "nbconvert_exporter": "python",
   "pygments_lexer": "ipython3",
   "version": "3.10.8"
  }
 },
 "nbformat": 4,
 "nbformat_minor": 5
}
