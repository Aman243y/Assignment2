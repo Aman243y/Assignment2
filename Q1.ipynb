{
 "cells": [
  {
   "cell_type": "code",
   "execution_count": 5,
   "id": "fee82be1-d4d7-4217-a1cf-3d363b62f34d",
   "metadata": {},
   "outputs": [
    {
     "data": {
      "text/plain": [
       "'\\nexample:\\n\\nThis is a multi-line comment.\\nIt can span multiple lines.\\n\\n\\n\\nThis is also a multi-line comment.\\nIt can be enclosed with triple double quotes as well.'"
      ]
     },
     "execution_count": 5,
     "metadata": {},
     "output_type": "execute_result"
    }
   ],
   "source": [
    "#Their are two types of comment in python\n",
    "'''1:-single line comment:-this is used comment single line in your code.\n",
    "->you can create single line comment using\"#\" symbol.'''\n",
    "# This is a single-line comment\n",
    "x = 10  # This is also a comment\n",
    "\n",
    "\n",
    "\n",
    "#2:-multiline comment:-it is used for longer and multiline comments\n",
    "#->you can create multiline comment with  (''' or \"\"\").\n",
    "'''\n",
    "example:\n",
    "\n",
    "This is a multi-line comment.\n",
    "It can span multiple lines.\n",
    "\n",
    "\n",
    "\n",
    "This is also a multi-line comment.\n",
    "It can be enclosed with triple double quotes as well.'''\n",
    "\n"
   ]
  },
  {
   "cell_type": "code",
   "execution_count": null,
   "id": "e6e1db83-4e15-4970-aaec-e2c89da921e6",
   "metadata": {},
   "outputs": [],
   "source": []
  }
 ],
 "metadata": {
  "kernelspec": {
   "display_name": "Python 3 (ipykernel)",
   "language": "python",
   "name": "python3"
  },
  "language_info": {
   "codemirror_mode": {
    "name": "ipython",
    "version": 3
   },
   "file_extension": ".py",
   "mimetype": "text/x-python",
   "name": "python",
   "nbconvert_exporter": "python",
   "pygments_lexer": "ipython3",
   "version": "3.10.8"
  }
 },
 "nbformat": 4,
 "nbformat_minor": 5
}
