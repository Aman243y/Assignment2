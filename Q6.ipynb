{
 "cells": [
  {
   "cell_type": "code",
   "execution_count": 1,
   "id": "c68df8a0-8b39-4228-9577-180f435e9841",
   "metadata": {},
   "outputs": [
    {
     "data": {
      "text/plain": [
       "'In mathematics, a complex number is a number that can be expressed in the form a + bi, \\nwhere a and b are real numbers, and i is the imaginary unit, which is defined as the square root of -1.\\n\\nHere:\\n\\na is the real part of the complex number.\\nb is the imaginary part of the complex number.'"
      ]
     },
     "execution_count": 1,
     "metadata": {},
     "output_type": "execute_result"
    }
   ],
   "source": [
    "'''In mathematics, a complex number is a number that can be expressed in the form a + bi, \n",
    "where a and b are real numbers, and i is the imaginary unit, which is defined as the square root of -1.\n",
    "\n",
    "Here:\n",
    "\n",
    "a is the real part of the complex number.\n",
    "b is the imaginary part of the complex number.'''"
   ]
  },
  {
   "cell_type": "code",
   "execution_count": 2,
   "id": "3701ca67-111a-414c-aaa1-af8868a7348d",
   "metadata": {},
   "outputs": [],
   "source": [
    "# Define a complex number\n",
    "z = 3 + 2j\n",
    "\n",
    "# Access real and imaginary parts\n",
    "real_part = z.real \n",
    "imaginary_part = z.imag  \n",
    "\n",
    "\n"
   ]
  },
  {
   "cell_type": "code",
   "execution_count": 3,
   "id": "9fa3827d-10be-480c-a002-5a3d25cb28e8",
   "metadata": {},
   "outputs": [
    {
     "data": {
      "text/plain": [
       "(3+2j)"
      ]
     },
     "execution_count": 3,
     "metadata": {},
     "output_type": "execute_result"
    }
   ],
   "source": [
    "z"
   ]
  },
  {
   "cell_type": "code",
   "execution_count": 4,
   "id": "dd05385a-4d4a-4f4d-b392-1d4185f1dce1",
   "metadata": {},
   "outputs": [
    {
     "data": {
      "text/plain": [
       "3.0"
      ]
     },
     "execution_count": 4,
     "metadata": {},
     "output_type": "execute_result"
    }
   ],
   "source": [
    "real_part"
   ]
  },
  {
   "cell_type": "code",
   "execution_count": 5,
   "id": "bdde82d4-81d7-45d7-9ba3-0ed1c9e6a198",
   "metadata": {},
   "outputs": [
    {
     "data": {
      "text/plain": [
       "2.0"
      ]
     },
     "execution_count": 5,
     "metadata": {},
     "output_type": "execute_result"
    }
   ],
   "source": [
    "imaginary_part"
   ]
  },
  {
   "cell_type": "code",
   "execution_count": 6,
   "id": "ac65b6f3-9176-4eb1-b268-26e07c3775dd",
   "metadata": {},
   "outputs": [],
   "source": [
    "# Addition, subtraction, multiplication\n",
    "w = 1 + 1j\n",
    "sum_result = z + w \n",
    "diff_result = z - w  \n",
    "product_result = z * w  "
   ]
  },
  {
   "cell_type": "code",
   "execution_count": 7,
   "id": "0cc1b8ee-94f7-4e0b-a53c-99234b5643e2",
   "metadata": {},
   "outputs": [
    {
     "data": {
      "text/plain": [
       "(4+3j)"
      ]
     },
     "execution_count": 7,
     "metadata": {},
     "output_type": "execute_result"
    }
   ],
   "source": [
    "sum_result"
   ]
  },
  {
   "cell_type": "code",
   "execution_count": 8,
   "id": "e1bde92a-10f6-4e6c-bef8-aad7f4ef8249",
   "metadata": {},
   "outputs": [
    {
     "data": {
      "text/plain": [
       "(2+1j)"
      ]
     },
     "execution_count": 8,
     "metadata": {},
     "output_type": "execute_result"
    }
   ],
   "source": [
    "diff_result"
   ]
  },
  {
   "cell_type": "code",
   "execution_count": 9,
   "id": "139d1c39-41cc-49bb-970b-cb935a93829c",
   "metadata": {},
   "outputs": [
    {
     "data": {
      "text/plain": [
       "(1+5j)"
      ]
     },
     "execution_count": 9,
     "metadata": {},
     "output_type": "execute_result"
    }
   ],
   "source": [
    "product_result"
   ]
  },
  {
   "cell_type": "code",
   "execution_count": null,
   "id": "82f7671e-b873-4d01-a473-ac5676dbac8b",
   "metadata": {},
   "outputs": [],
   "source": []
  }
 ],
 "metadata": {
  "kernelspec": {
   "display_name": "Python 3 (ipykernel)",
   "language": "python",
   "name": "python3"
  },
  "language_info": {
   "codemirror_mode": {
    "name": "ipython",
    "version": 3
   },
   "file_extension": ".py",
   "mimetype": "text/x-python",
   "name": "python",
   "nbconvert_exporter": "python",
   "pygments_lexer": "ipython3",
   "version": "3.10.8"
  }
 },
 "nbformat": 4,
 "nbformat_minor": 5
}
