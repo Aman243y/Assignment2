{
 "cells": [
  {
   "cell_type": "code",
   "execution_count": 1,
   "id": "b465f36b-38e9-46ae-9890-8df0b77ca269",
   "metadata": {},
   "outputs": [
    {
     "name": "stdout",
     "output_type": "stream",
     "text": [
      "Hello, World!\n"
     ]
    }
   ],
   "source": [
    "print(\"Hello, World!\")\n"
   ]
  },
  {
   "cell_type": "code",
   "execution_count": 2,
   "id": "31738d42-f223-46d5-a8c0-31b8f4e9af11",
   "metadata": {},
   "outputs": [
    {
     "data": {
      "text/plain": [
       "'Open a Text Editor:\\nWrite Your Python Code:\\n\\nSave the File:\\nSave the file with a .py extension. For example, you can save it as Q4.py.\\n\\nOpen the Command Prompt (Windows)\\nExecute the Script:\\nType python followed by the name of your script and press Enter:'"
      ]
     },
     "execution_count": 2,
     "metadata": {},
     "output_type": "execute_result"
    }
   ],
   "source": [
    "'''Open a Text Editor:\n",
    "Write Your Python Code:\n",
    "\n",
    "Save the File:\n",
    "Save the file with a .py extension. For example, you can save it as Q4.py.\n",
    "\n",
    "Open the Command Prompt (Windows)\n",
    "Execute the Script:\n",
    "Type python followed by the name of your script and press Enter:'''\n",
    "\n"
   ]
  },
  {
   "cell_type": "code",
   "execution_count": null,
   "id": "086c5c15-7010-4b23-b70f-ec3c05081f6d",
   "metadata": {},
   "outputs": [],
   "source": []
  }
 ],
 "metadata": {
  "kernelspec": {
   "display_name": "Python 3 (ipykernel)",
   "language": "python",
   "name": "python3"
  },
  "language_info": {
   "codemirror_mode": {
    "name": "ipython",
    "version": 3
   },
   "file_extension": ".py",
   "mimetype": "text/x-python",
   "name": "python",
   "nbconvert_exporter": "python",
   "pygments_lexer": "ipython3",
   "version": "3.10.8"
  }
 },
 "nbformat": 4,
 "nbformat_minor": 5
}
