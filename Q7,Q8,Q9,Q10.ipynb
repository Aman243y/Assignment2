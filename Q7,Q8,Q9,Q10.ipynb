{
 "cells": [
  {
   "cell_type": "code",
   "execution_count": 1,
   "id": "d6e591ed-b530-47f8-bb4d-8a4bc624ef75",
   "metadata": {},
   "outputs": [],
   "source": [
    "#Q7\n",
    "age = 25\n"
   ]
  },
  {
   "cell_type": "code",
   "execution_count": 2,
   "id": "da6d80bd-8aaa-40e6-83f3-0215f54acc82",
   "metadata": {},
   "outputs": [
    {
     "data": {
      "text/plain": [
       "25"
      ]
     },
     "execution_count": 2,
     "metadata": {},
     "output_type": "execute_result"
    }
   ],
   "source": [
    "age\n"
   ]
  },
  {
   "cell_type": "code",
   "execution_count": 3,
   "id": "6da73ca3-a99e-4ed7-8955-46d93555c735",
   "metadata": {},
   "outputs": [],
   "source": [
    "#Q8\n",
    "price = 9.99\n",
    "\n"
   ]
  },
  {
   "cell_type": "code",
   "execution_count": 4,
   "id": "c96988f4-c451-4d75-a7e6-040bf330f8d3",
   "metadata": {},
   "outputs": [
    {
     "data": {
      "text/plain": [
       "float"
      ]
     },
     "execution_count": 4,
     "metadata": {},
     "output_type": "execute_result"
    }
   ],
   "source": [
    "type(price)"
   ]
  },
  {
   "cell_type": "code",
   "execution_count": 5,
   "id": "5f855aab-bc61-4501-83d6-78274ee1a2cd",
   "metadata": {},
   "outputs": [],
   "source": [
    "#Q8\n",
    "name = \"Aman yadav\"\n"
   ]
  },
  {
   "cell_type": "code",
   "execution_count": 6,
   "id": "e8949c22-2473-45ef-9875-a781e0e9bb63",
   "metadata": {},
   "outputs": [
    {
     "data": {
      "text/plain": [
       "'Aman yadav'"
      ]
     },
     "execution_count": 6,
     "metadata": {},
     "output_type": "execute_result"
    }
   ],
   "source": [
    "name"
   ]
  },
  {
   "cell_type": "code",
   "execution_count": 7,
   "id": "b84f574f-b1a6-4662-9e9e-0d10523c3664",
   "metadata": {},
   "outputs": [],
   "source": [
    "#Q9\n",
    "a=\"Hello world\""
   ]
  },
  {
   "cell_type": "code",
   "execution_count": 9,
   "id": "72c1dbaf-13c8-40aa-ba35-6515d84cf35a",
   "metadata": {},
   "outputs": [
    {
     "data": {
      "text/plain": [
       "'world'"
      ]
     },
     "execution_count": 9,
     "metadata": {},
     "output_type": "execute_result"
    }
   ],
   "source": [
    "a[6:12]"
   ]
  },
  {
   "cell_type": "code",
   "execution_count": null,
   "id": "52073038-0963-454f-908a-b627acac1131",
   "metadata": {},
   "outputs": [],
   "source": [
    "#11\n"
   ]
  }
 ],
 "metadata": {
  "kernelspec": {
   "display_name": "Python 3 (ipykernel)",
   "language": "python",
   "name": "python3"
  },
  "language_info": {
   "codemirror_mode": {
    "name": "ipython",
    "version": 3
   },
   "file_extension": ".py",
   "mimetype": "text/x-python",
   "name": "python",
   "nbconvert_exporter": "python",
   "pygments_lexer": "ipython3",
   "version": "3.10.8"
  }
 },
 "nbformat": 4,
 "nbformat_minor": 5
}
